{
 "cells": [
  {
   "cell_type": "code",
   "execution_count": 1,
   "metadata": {
    "collapsed": true
   },
   "outputs": [],
   "source": [
    "f = open('hypernyms.csv', 'r')"
   ]
  },
  {
   "cell_type": "code",
   "execution_count": 2,
   "outputs": [],
   "source": [
    "list1 = []\n",
    "count = 0\n",
    "for i in f:\n",
    "    count += 1\n",
    "    string_count = str(count)\n",
    "    split = i.split(',')\n",
    "    lemma = split[0]\n",
    "    POS = split[1]\n",
    "    hypernym = split[2]\n",
    "    list1.append(string_count+',<|endoftext|>hypernym: the hypernym of '+lemma+' is '+ hypernym.strip('\\n')+'<|endoftext|>\\n')"
   ],
   "metadata": {
    "collapsed": false,
    "pycharm": {
     "name": "#%%\n"
    }
   }
  },
  {
   "cell_type": "code",
   "execution_count": 4,
   "outputs": [],
   "source": [
    "f2 = open('train.csv', 'a+')\n",
    "f3 = open('validation.csv', 'a+')\n",
    "f2.write(',text\\n')\n",
    "f3.write(',text\\n')\n",
    "for x in list1[0:90273]:\n",
    "    f2.write(x)\n",
    "\n",
    "for y in list1[90273:]:\n",
    "    f3.write(y)"
   ],
   "metadata": {
    "collapsed": false,
    "pycharm": {
     "name": "#%%\n"
    }
   }
  },
  {
   "cell_type": "code",
   "execution_count": null,
   "outputs": [],
   "source": [],
   "metadata": {
    "collapsed": false,
    "pycharm": {
     "name": "#%%\n"
    }
   }
  }
 ],
 "metadata": {
  "kernelspec": {
   "display_name": "Python 3",
   "language": "python",
   "name": "python3"
  },
  "language_info": {
   "codemirror_mode": {
    "name": "ipython",
    "version": 2
   },
   "file_extension": ".py",
   "mimetype": "text/x-python",
   "name": "python",
   "nbconvert_exporter": "python",
   "pygments_lexer": "ipython2",
   "version": "2.7.6"
  }
 },
 "nbformat": 4,
 "nbformat_minor": 0
}