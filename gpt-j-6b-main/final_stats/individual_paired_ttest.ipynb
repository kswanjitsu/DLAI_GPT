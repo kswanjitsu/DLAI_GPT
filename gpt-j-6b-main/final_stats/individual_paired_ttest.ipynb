{
 "cells": [
  {
   "cell_type": "code",
   "execution_count": 1,
   "metadata": {
    "collapsed": true
   },
   "outputs": [
    {
     "data": {
      "text/plain": "'\\nIndivudal paired t-test\\n- For each model compare scores before and after to show significance of model effect\\n'"
     },
     "execution_count": 1,
     "metadata": {},
     "output_type": "execute_result"
    }
   ],
   "source": [
    "\"\"\"\n",
    "Indivudal paired t-test\n",
    "- For each model compare scores before and after to show significance of model effect\n",
    "\"\"\""
   ]
  },
  {
   "cell_type": "code",
   "execution_count": 2,
   "outputs": [],
   "source": [
    "from scipy import stats\n",
    "import pingouin as pt\n",
    "import pandas as pd"
   ],
   "metadata": {
    "collapsed": false,
    "pycharm": {
     "name": "#%%\n"
    }
   }
  },
  {
   "cell_type": "code",
   "execution_count": 7,
   "outputs": [
    {
     "data": {
      "text/plain": "          cui                                   gpt_old_document  \\\n1    C1156350  the chemical reactions and pathways resulting ...   \n2    C3156935  any process that modulates the rate, frequency...   \n3    C1166692  the core heterodimer of a condensin complex, a...   \n4    C4732853  abnormally decreased blood carbon dioxide (co2...   \n5    C3541342  a radiopharmaceutical composed of the dichlori...   \n..        ...                                                ...   \n712  C1156907  the chemical reactions and pathways resulting ...   \n713  C0991548  liquid preparation consisting of a suspension ...   \n714  C2350587  a progressive advance or delay of bedtime unti...   \n715  C4683761  a change in the nucleotide sequence of the erb...   \n716  C1879862  bladder cancer in which there is no regional l...   \n\n                                      gpt_new_document  gpt_old_fk_score  \\\n1     the chemical reactions and pathways resulting...         68.819265   \n2     the acetylation (formation) of a protein, the...         41.061078   \n3     the core of a heterodimer of a protein that r...         27.485000   \n4     abnormally decreased blood carbon dioxide lev...         73.845000   \n5     a radiopharmaceutical composed of the dichlor...         26.236259   \n..                                                 ...               ...   \n712   the chemical reactions and pathways resultin ...         29.640761   \n713                                             liquid         43.010043   \n714            a progressive advance or delay of sleep         57.068269   \n715   a change in the protein building blocks at po...         43.963077   \n716                                     bladder cancer         91.600980   \n\n     gpt_new_fk_score  gpt_old_fk_grade  gpt_new_fk_grade  gpt_old_dc_score  \\\n1           12.260000          5.772059         17.760000         14.683967   \n2           38.165000         10.347647         12.407778         12.786881   \n3           58.407500         11.910000          9.087500         13.932062   \n4           57.233636          4.450000          8.009091         11.086573   \n5           23.425000         13.657551         13.470000         12.839300   \n..                ...               ...               ...               ...   \n712         18.405000         11.981957         13.673333         11.072117   \n713        120.205000          9.545826         -3.010000         11.948772   \n714         82.390000          6.914231          3.755000          9.139762   \n715         72.720000         10.356923          8.333333         13.747922   \n716         90.990000          1.890588          1.313333         13.346335   \n\n     gpt_new_dc_score  gpt_old_cl_score  gpt_new_cl_score  gpt_old_ar_index  \\\n1           15.857638         14.983529         22.734400         14.322857   \n2           12.889426          5.184706         10.668889          7.280476   \n3           10.981465          5.680000          6.490000          9.612857   \n4           12.126700        -17.973333          3.560000          6.582727   \n5           14.298850         16.317551         13.717143         15.087300   \n..                ...               ...               ...               ...   \n712         15.212838         11.586087         13.063333         13.399130   \n713         19.575300         -1.623478       -127.420000         10.401014   \n714         12.855122        -14.781538        -12.010000          9.344615   \n715         11.187245         12.284615         11.664762         18.760000   \n716         19.624900        -24.218824        -71.226667          3.876471   \n\n     gpt_new_ar_index  gpt_old_smog_score  gpt_new_smog_score  \\\n1           17.656154           58.538230          125.160000   \n2            8.149474           74.485099           88.501485   \n3            6.187059           69.966567           62.580000   \n4            7.335000           49.473834           69.966567   \n5           11.003125           88.501485           76.644534   \n..                ...                 ...                 ...   \n712         13.330000           73.381555           82.785559   \n713         -7.370000           62.580000           31.290000   \n714          1.386667           62.580000           54.195870   \n715          9.480455           73.381555           82.785559   \n716         -1.767500           36.130580           44.250742   \n\n     gpt_old_gf_index  gpt_new_gf_index  \n1           19.870588         35.600000  \n2           24.533333         24.977778  \n3           24.000000         16.400000  \n4           19.066667         22.581818  \n5           26.125170         22.742857  \n..                ...               ...  \n712         23.730435         28.133333  \n713         21.071304         20.800000  \n714         27.215385         18.200000  \n715         22.123077         21.733333  \n716         11.678431         27.866667  \n\n[716 rows x 17 columns]",
      "text/html": "<div>\n<style scoped>\n    .dataframe tbody tr th:only-of-type {\n        vertical-align: middle;\n    }\n\n    .dataframe tbody tr th {\n        vertical-align: top;\n    }\n\n    .dataframe thead th {\n        text-align: right;\n    }\n</style>\n<table border=\"1\" class=\"dataframe\">\n  <thead>\n    <tr style=\"text-align: right;\">\n      <th></th>\n      <th>cui</th>\n      <th>gpt_old_document</th>\n      <th>gpt_new_document</th>\n      <th>gpt_old_fk_score</th>\n      <th>gpt_new_fk_score</th>\n      <th>gpt_old_fk_grade</th>\n      <th>gpt_new_fk_grade</th>\n      <th>gpt_old_dc_score</th>\n      <th>gpt_new_dc_score</th>\n      <th>gpt_old_cl_score</th>\n      <th>gpt_new_cl_score</th>\n      <th>gpt_old_ar_index</th>\n      <th>gpt_new_ar_index</th>\n      <th>gpt_old_smog_score</th>\n      <th>gpt_new_smog_score</th>\n      <th>gpt_old_gf_index</th>\n      <th>gpt_new_gf_index</th>\n    </tr>\n  </thead>\n  <tbody>\n    <tr>\n      <th>1</th>\n      <td>C1156350</td>\n      <td>the chemical reactions and pathways resulting ...</td>\n      <td>the chemical reactions and pathways resulting...</td>\n      <td>68.819265</td>\n      <td>12.260000</td>\n      <td>5.772059</td>\n      <td>17.760000</td>\n      <td>14.683967</td>\n      <td>15.857638</td>\n      <td>14.983529</td>\n      <td>22.734400</td>\n      <td>14.322857</td>\n      <td>17.656154</td>\n      <td>58.538230</td>\n      <td>125.160000</td>\n      <td>19.870588</td>\n      <td>35.600000</td>\n    </tr>\n    <tr>\n      <th>2</th>\n      <td>C3156935</td>\n      <td>any process that modulates the rate, frequency...</td>\n      <td>the acetylation (formation) of a protein, the...</td>\n      <td>41.061078</td>\n      <td>38.165000</td>\n      <td>10.347647</td>\n      <td>12.407778</td>\n      <td>12.786881</td>\n      <td>12.889426</td>\n      <td>5.184706</td>\n      <td>10.668889</td>\n      <td>7.280476</td>\n      <td>8.149474</td>\n      <td>74.485099</td>\n      <td>88.501485</td>\n      <td>24.533333</td>\n      <td>24.977778</td>\n    </tr>\n    <tr>\n      <th>3</th>\n      <td>C1166692</td>\n      <td>the core heterodimer of a condensin complex, a...</td>\n      <td>the core of a heterodimer of a protein that r...</td>\n      <td>27.485000</td>\n      <td>58.407500</td>\n      <td>11.910000</td>\n      <td>9.087500</td>\n      <td>13.932062</td>\n      <td>10.981465</td>\n      <td>5.680000</td>\n      <td>6.490000</td>\n      <td>9.612857</td>\n      <td>6.187059</td>\n      <td>69.966567</td>\n      <td>62.580000</td>\n      <td>24.000000</td>\n      <td>16.400000</td>\n    </tr>\n    <tr>\n      <th>4</th>\n      <td>C4732853</td>\n      <td>abnormally decreased blood carbon dioxide (co2...</td>\n      <td>abnormally decreased blood carbon dioxide lev...</td>\n      <td>73.845000</td>\n      <td>57.233636</td>\n      <td>4.450000</td>\n      <td>8.009091</td>\n      <td>11.086573</td>\n      <td>12.126700</td>\n      <td>-17.973333</td>\n      <td>3.560000</td>\n      <td>6.582727</td>\n      <td>7.335000</td>\n      <td>49.473834</td>\n      <td>69.966567</td>\n      <td>19.066667</td>\n      <td>22.581818</td>\n    </tr>\n    <tr>\n      <th>5</th>\n      <td>C3541342</td>\n      <td>a radiopharmaceutical composed of the dichlori...</td>\n      <td>a radiopharmaceutical composed of the dichlor...</td>\n      <td>26.236259</td>\n      <td>23.425000</td>\n      <td>13.657551</td>\n      <td>13.470000</td>\n      <td>12.839300</td>\n      <td>14.298850</td>\n      <td>16.317551</td>\n      <td>13.717143</td>\n      <td>15.087300</td>\n      <td>11.003125</td>\n      <td>88.501485</td>\n      <td>76.644534</td>\n      <td>26.125170</td>\n      <td>22.742857</td>\n    </tr>\n    <tr>\n      <th>...</th>\n      <td>...</td>\n      <td>...</td>\n      <td>...</td>\n      <td>...</td>\n      <td>...</td>\n      <td>...</td>\n      <td>...</td>\n      <td>...</td>\n      <td>...</td>\n      <td>...</td>\n      <td>...</td>\n      <td>...</td>\n      <td>...</td>\n      <td>...</td>\n      <td>...</td>\n      <td>...</td>\n      <td>...</td>\n    </tr>\n    <tr>\n      <th>712</th>\n      <td>C1156907</td>\n      <td>the chemical reactions and pathways resulting ...</td>\n      <td>the chemical reactions and pathways resultin ...</td>\n      <td>29.640761</td>\n      <td>18.405000</td>\n      <td>11.981957</td>\n      <td>13.673333</td>\n      <td>11.072117</td>\n      <td>15.212838</td>\n      <td>11.586087</td>\n      <td>13.063333</td>\n      <td>13.399130</td>\n      <td>13.330000</td>\n      <td>73.381555</td>\n      <td>82.785559</td>\n      <td>23.730435</td>\n      <td>28.133333</td>\n    </tr>\n    <tr>\n      <th>713</th>\n      <td>C0991548</td>\n      <td>liquid preparation consisting of a suspension ...</td>\n      <td>liquid</td>\n      <td>43.010043</td>\n      <td>120.205000</td>\n      <td>9.545826</td>\n      <td>-3.010000</td>\n      <td>11.948772</td>\n      <td>19.575300</td>\n      <td>-1.623478</td>\n      <td>-127.420000</td>\n      <td>10.401014</td>\n      <td>-7.370000</td>\n      <td>62.580000</td>\n      <td>31.290000</td>\n      <td>21.071304</td>\n      <td>20.800000</td>\n    </tr>\n    <tr>\n      <th>714</th>\n      <td>C2350587</td>\n      <td>a progressive advance or delay of bedtime unti...</td>\n      <td>a progressive advance or delay of sleep</td>\n      <td>57.068269</td>\n      <td>82.390000</td>\n      <td>6.914231</td>\n      <td>3.755000</td>\n      <td>9.139762</td>\n      <td>12.855122</td>\n      <td>-14.781538</td>\n      <td>-12.010000</td>\n      <td>9.344615</td>\n      <td>1.386667</td>\n      <td>62.580000</td>\n      <td>54.195870</td>\n      <td>27.215385</td>\n      <td>18.200000</td>\n    </tr>\n    <tr>\n      <th>715</th>\n      <td>C4683761</td>\n      <td>a change in the nucleotide sequence of the erb...</td>\n      <td>a change in the protein building blocks at po...</td>\n      <td>43.963077</td>\n      <td>72.720000</td>\n      <td>10.356923</td>\n      <td>8.333333</td>\n      <td>13.747922</td>\n      <td>11.187245</td>\n      <td>12.284615</td>\n      <td>11.664762</td>\n      <td>18.760000</td>\n      <td>9.480455</td>\n      <td>73.381555</td>\n      <td>82.785559</td>\n      <td>22.123077</td>\n      <td>21.733333</td>\n    </tr>\n    <tr>\n      <th>716</th>\n      <td>C1879862</td>\n      <td>bladder cancer in which there is no regional l...</td>\n      <td>bladder cancer</td>\n      <td>91.600980</td>\n      <td>90.990000</td>\n      <td>1.890588</td>\n      <td>1.313333</td>\n      <td>13.346335</td>\n      <td>19.624900</td>\n      <td>-24.218824</td>\n      <td>-71.226667</td>\n      <td>3.876471</td>\n      <td>-1.767500</td>\n      <td>36.130580</td>\n      <td>44.250742</td>\n      <td>11.678431</td>\n      <td>27.866667</td>\n    </tr>\n  </tbody>\n</table>\n<p>716 rows × 17 columns</p>\n</div>"
     },
     "execution_count": 7,
     "metadata": {},
     "output_type": "execute_result"
    }
   ],
   "source": [
    "gpt_cols = ['cui','gpt_old_document', 'gpt_new_document', 'gpt_old_fk_score','gpt_new_fk_score','gpt_old_fk_grade','gpt_new_fk_grade', 'gpt_old_dc_score',\n",
    "        'gpt_new_dc_score','gpt_old_cl_score','gpt_new_cl_score','gpt_old_ar_index','gpt_new_ar_index', 'gpt_old_smog_score', 'gpt_new_smog_score',\n",
    "        'gpt_old_gf_index', 'gpt_new_gf_index']\n",
    "\n",
    "#'/home/karl/PycharmProjects/DLAI/translate/prgpt_old_pipeline_results_graded.txt' - for prog+ai\n",
    "with open('/home/karl/PycharmProjects/DLAI_GPT/gpt-j-6b-main/final_stats/pipeline_results_graded_gpt.txt', encoding='utf-8-sig') as data:\n",
    "    df_gpt = pd.read_csv(data,  sep='|',names=gpt_cols).reset_index()\n",
    "    df_gpt = df_gpt.drop(['index'], axis=1)\n",
    "    df_gpt = df_gpt.drop([0])\n",
    "    df_gpt['gpt_old_fk_score'] = df_gpt['gpt_old_fk_score'].apply(lambda col:pd.to_numeric(col, errors='coerce'))\n",
    "    df_gpt['gpt_new_fk_score'] = df_gpt['gpt_new_fk_score'].apply(lambda col:pd.to_numeric(col, errors='coerce'))\n",
    "    df_gpt['gpt_old_fk_grade'] = df_gpt['gpt_old_fk_grade'].apply(lambda col:pd.to_numeric(col, errors='coerce'))\n",
    "    df_gpt['gpt_new_fk_grade'] = df_gpt['gpt_new_fk_grade'].apply(lambda col:pd.to_numeric(col, errors='coerce'))\n",
    "    df_gpt['gpt_old_dc_score'] = df_gpt['gpt_old_dc_score'].apply(lambda col:pd.to_numeric(col, errors='coerce'))\n",
    "    df_gpt['gpt_new_dc_score'] = df_gpt['gpt_new_dc_score'].apply(lambda col:pd.to_numeric(col, errors='coerce'))\n",
    "    df_gpt['gpt_old_cl_score'] = df_gpt['gpt_old_cl_score'].apply(lambda col:pd.to_numeric(col, errors='coerce'))\n",
    "    df_gpt['gpt_new_cl_score'] = df_gpt['gpt_new_cl_score'].apply(lambda col:pd.to_numeric(col, errors='coerce'))\n",
    "    df_gpt['gpt_old_ar_index'] = df_gpt['gpt_old_ar_index'].apply(lambda col:pd.to_numeric(col, errors='coerce'))\n",
    "    df_gpt['gpt_new_ar_index'] = df_gpt['gpt_new_ar_index'].apply(lambda col:pd.to_numeric(col, errors='coerce'))\n",
    "    df_gpt['gpt_old_smog_score'] = df_gpt['gpt_old_smog_score'].apply(lambda col:pd.to_numeric(col, errors='coerce'))\n",
    "    df_gpt['gpt_new_smog_score'] = df_gpt['gpt_new_smog_score'].apply(lambda col:pd.to_numeric(col, errors='coerce'))\n",
    "    df_gpt['gpt_old_gf_index'] = df_gpt['gpt_old_gf_index'].apply(lambda col:pd.to_numeric(col, errors='coerce'))\n",
    "    df_gpt['gpt_new_gf_index'] = df_gpt['gpt_new_gf_index'].apply(lambda col:pd.to_numeric(col, errors='coerce'))\n",
    "\n",
    "df_gpt"
   ],
   "metadata": {
    "collapsed": false,
    "pycharm": {
     "name": "#%%\n"
    }
   }
  },
  {
   "cell_type": "code",
   "execution_count": 8,
   "outputs": [
    {
     "name": "stdout",
     "output_type": "stream",
     "text": [
      "                T  dof alternative         p-val            CI95%   cohen-d  \\\n",
      "T-test -16.207475  715   two-sided  1.503519e-50  [-35.47, -27.8]  0.740213   \n",
      "\n",
      "             BF10  power  \n",
      "T-test  1.086e+47    1.0  \n",
      "--------------------------------------------------------------------------------------------\n",
      "                T  dof alternative         p-val         CI95%   cohen-d  \\\n",
      "T-test  15.917948  715   two-sided  4.644503e-49  [4.26, 5.45]  0.739209   \n",
      "\n",
      "             BF10  power  \n",
      "T-test  3.598e+45    1.0  \n",
      "--------------------------------------------------------------------------------------------\n",
      "                T  dof alternative         p-val           CI95%   cohen-d  \\\n",
      "T-test -17.782053  715   two-sided  7.482958e-59  [-2.33, -1.87]  0.741682   \n",
      "\n",
      "             BF10  power  \n",
      "T-test  1.932e+55    1.0  \n",
      "--------------------------------------------------------------------------------------------\n",
      "                T  dof alternative         p-val           CI95%   cohen-d  \\\n",
      "T-test  13.609703  715   two-sided  1.121311e-37  [28.68, 38.35]  0.656201   \n",
      "\n",
      "            BF10  power  \n",
      "T-test  1.82e+34    1.0  \n",
      "--------------------------------------------------------------------------------------------\n",
      "                T  dof alternative          p-val          CI95%   cohen-d  \\\n",
      "T-test  28.459959  715   two-sided  1.023458e-119  [9.62, 11.05]  1.393115   \n",
      "\n",
      "              BF10  power  \n",
      "T-test  7.554e+115    1.0  \n",
      "--------------------------------------------------------------------------------------------\n",
      "                T  dof alternative         p-val           CI95%   cohen-d  \\\n",
      "T-test  12.210209  715   two-sided  2.805754e-31  [11.27, 15.59]  0.558676   \n",
      "\n",
      "             BF10  power  \n",
      "T-test  8.323e+27    1.0  \n",
      "--------------------------------------------------------------------------------------------\n",
      "                T  dof alternative         p-val         CI95%   cohen-d  \\\n",
      "T-test  11.926988  715   two-sided  4.893249e-30  [3.18, 4.44]  0.533902   \n",
      "\n",
      "             BF10  power  \n",
      "T-test  4.912e+26    1.0  \n"
     ]
    }
   ],
   "source": [
    "ttest_fkscore_gpt = pt.ttest(df_gpt['gpt_old_fk_score'], df_gpt['gpt_new_fk_score'],paired=True)\n",
    "print(ttest_fkscore_gpt)\n",
    "print('--------------------------------------------------------------------------------------------')\n",
    "ttest_fkgrade_gpt = pt.ttest(df_gpt['gpt_old_fk_grade'], df_gpt['gpt_new_fk_grade'],paired=True)\n",
    "print(ttest_fkgrade_gpt)\n",
    "print('--------------------------------------------------------------------------------------------')\n",
    "ttest_dcscore_gpt = pt.ttest(df_gpt['gpt_old_dc_score'], df_gpt['gpt_new_dc_score'],paired=True)\n",
    "print(ttest_dcscore_gpt)\n",
    "print('--------------------------------------------------------------------------------------------')\n",
    "ttest_clscore_gpt = pt.ttest(df_gpt['gpt_old_cl_score'], df_gpt['gpt_new_cl_score'],paired=True)\n",
    "print(ttest_clscore_gpt)\n",
    "print('--------------------------------------------------------------------------------------------')\n",
    "ttest_arindex_gpt = pt.ttest(df_gpt['gpt_old_ar_index'], df_gpt['gpt_new_ar_index'],paired=True)\n",
    "print(ttest_arindex_gpt)\n",
    "print('--------------------------------------------------------------------------------------------')\n",
    "ttest_smog_gpt = pt.ttest(df_gpt['gpt_old_smog_score'], df_gpt['gpt_new_smog_score'],paired=True)\n",
    "print(ttest_smog_gpt)\n",
    "print('--------------------------------------------------------------------------------------------')\n",
    "ttest_gfindex_gpt = pt.ttest(df_gpt['gpt_old_gf_index'], df_gpt['gpt_new_gf_index'],paired=True)\n",
    "print(ttest_gfindex_gpt)"
   ],
   "metadata": {
    "collapsed": false,
    "pycharm": {
     "name": "#%%\n"
    }
   }
  },
  {
   "cell_type": "code",
   "execution_count": 9,
   "outputs": [
    {
     "data": {
      "text/plain": "                                       t5_old_document  \\\n1    The chemical reactions and pathways resulting ...   \n2    Any process that modulates the rate, frequency...   \n3    The core heterodimer of a condensin complex, a...   \n4    Abnormally decreased blood carbon dioxide (CO2...   \n5    A radiopharmaceutical composed of the dichlori...   \n..                                                 ...   \n995  The chemical reactions and pathways resulting ...   \n996  Liquid preparation consisting of a suspension ...   \n997  A progressive advance or delay of bedtime unti...   \n998  A change in the nucleotide sequence of the ERB...   \n999  Bladder cancer in which there is no regional l...   \n\n                                       t5_new_document  t5_old_fk_score  \\\n1    The chemical reactions and pathways resulting ...        68.819265   \n2    Any process that modulates the rate, frequency...        41.061078   \n3    The core heterodimer of a protein complex that...        27.485000   \n4    Abnormally decreased carbon dioxide (CO2) leve...        73.845000   \n5    A radiopharmaceutical composed of the dichlori...        26.236259   \n..                                                 ...              ...   \n995  The chemical reactions and pathways resulting ...        29.640761   \n996  Liquid preparation consisting of a suspension ...        43.010043   \n997  A progressive advance or delay of bedtime unti...        57.068269   \n998  A change in the DNA of a gene that results in ...        43.963077   \n999  cancer in which there is no regional lymph nod...        91.600980   \n\n     t5_new_fk_score  t5_old_fk_grade  t5_new_fk_grade  t5_old_dc_score  \\\n1          50.255658         5.772059         8.609737        14.683967   \n2          42.545000        10.347647        11.300000        12.786881   \n3          31.545000        11.910000        10.350000        13.932062   \n4          70.507045         4.450000         4.791364        11.086573   \n5          22.830180        13.657551        13.138919        12.839300   \n..               ...              ...              ...              ...   \n995        63.613553        11.981957         6.746579        11.072117   \n996        49.180000         9.545826         8.635556        11.948772   \n997        57.068269         6.914231         6.914231         9.139762   \n998        44.353804        10.356923         9.929783        13.747922   \n999        95.671667         1.890588         1.240000        13.346335   \n\n     t5_new_dc_score  t5_old_cl_score  t5_new_cl_score  t5_old_ar_index  \\\n1          13.180157        14.983529         8.764211        14.322857   \n2          12.374700         5.184706        10.900000         7.280476   \n3          14.134414         5.680000       -11.603333         9.612857   \n4          12.522027       -17.973333       -21.745455         6.582727   \n5          13.188479        16.317551        11.756757        15.087300   \n..               ...              ...              ...              ...   \n995        12.027500        11.586087         3.812632        13.399130   \n996        11.072117        -1.623478        -1.920889        10.503406   \n997         9.622986       -14.781538       -14.329231         9.344615   \n998        13.098900        12.284615         7.495652        18.760000   \n999        12.915175       -24.564706       -28.672500         3.876471   \n\n     t5_new_ar_index  t5_old_smog_score  t5_new_smog_score  t5_old_gf_index  \\\n1          11.631429          58.538230          66.376114        19.870588   \n2           8.126471          74.485099          85.691194        24.533333   \n3           6.629286          69.966567          54.195870        24.000000   \n4           4.870000          49.473834          49.473834        19.066667   \n5          11.639231          88.501485          76.644534        26.125170   \n..               ...                ...                ...              ...   \n995         9.475000          73.381555          66.376114        23.730435   \n996         8.279565          62.580000          62.580000        21.071304   \n997         4.947143          62.580000          62.580000        27.215385   \n998         8.935200          73.381555          66.376114        22.123077   \n999         2.881875          36.130580          31.290000        11.678431   \n\n     t5_new_gf_index  \n1          22.747368  \n2          25.150000  \n3          22.400000  \n4          20.381818  \n5          24.392793  \n..               ...  \n995        22.747368  \n996        21.377778  \n997        27.215385  \n998        20.252174  \n999         9.633333  \n\n[999 rows x 16 columns]",
      "text/html": "<div>\n<style scoped>\n    .dataframe tbody tr th:only-of-type {\n        vertical-align: middle;\n    }\n\n    .dataframe tbody tr th {\n        vertical-align: top;\n    }\n\n    .dataframe thead th {\n        text-align: right;\n    }\n</style>\n<table border=\"1\" class=\"dataframe\">\n  <thead>\n    <tr style=\"text-align: right;\">\n      <th></th>\n      <th>t5_old_document</th>\n      <th>t5_new_document</th>\n      <th>t5_old_fk_score</th>\n      <th>t5_new_fk_score</th>\n      <th>t5_old_fk_grade</th>\n      <th>t5_new_fk_grade</th>\n      <th>t5_old_dc_score</th>\n      <th>t5_new_dc_score</th>\n      <th>t5_old_cl_score</th>\n      <th>t5_new_cl_score</th>\n      <th>t5_old_ar_index</th>\n      <th>t5_new_ar_index</th>\n      <th>t5_old_smog_score</th>\n      <th>t5_new_smog_score</th>\n      <th>t5_old_gf_index</th>\n      <th>t5_new_gf_index</th>\n    </tr>\n  </thead>\n  <tbody>\n    <tr>\n      <th>1</th>\n      <td>The chemical reactions and pathways resulting ...</td>\n      <td>The chemical reactions and pathways resulting ...</td>\n      <td>68.819265</td>\n      <td>50.255658</td>\n      <td>5.772059</td>\n      <td>8.609737</td>\n      <td>14.683967</td>\n      <td>13.180157</td>\n      <td>14.983529</td>\n      <td>8.764211</td>\n      <td>14.322857</td>\n      <td>11.631429</td>\n      <td>58.538230</td>\n      <td>66.376114</td>\n      <td>19.870588</td>\n      <td>22.747368</td>\n    </tr>\n    <tr>\n      <th>2</th>\n      <td>Any process that modulates the rate, frequency...</td>\n      <td>Any process that modulates the rate, frequency...</td>\n      <td>41.061078</td>\n      <td>42.545000</td>\n      <td>10.347647</td>\n      <td>11.300000</td>\n      <td>12.786881</td>\n      <td>12.374700</td>\n      <td>5.184706</td>\n      <td>10.900000</td>\n      <td>7.280476</td>\n      <td>8.126471</td>\n      <td>74.485099</td>\n      <td>85.691194</td>\n      <td>24.533333</td>\n      <td>25.150000</td>\n    </tr>\n    <tr>\n      <th>3</th>\n      <td>The core heterodimer of a condensin complex, a...</td>\n      <td>The core heterodimer of a protein complex that...</td>\n      <td>27.485000</td>\n      <td>31.545000</td>\n      <td>11.910000</td>\n      <td>10.350000</td>\n      <td>13.932062</td>\n      <td>14.134414</td>\n      <td>5.680000</td>\n      <td>-11.603333</td>\n      <td>9.612857</td>\n      <td>6.629286</td>\n      <td>69.966567</td>\n      <td>54.195870</td>\n      <td>24.000000</td>\n      <td>22.400000</td>\n    </tr>\n    <tr>\n      <th>4</th>\n      <td>Abnormally decreased blood carbon dioxide (CO2...</td>\n      <td>Abnormally decreased carbon dioxide (CO2) leve...</td>\n      <td>73.845000</td>\n      <td>70.507045</td>\n      <td>4.450000</td>\n      <td>4.791364</td>\n      <td>11.086573</td>\n      <td>12.522027</td>\n      <td>-17.973333</td>\n      <td>-21.745455</td>\n      <td>6.582727</td>\n      <td>4.870000</td>\n      <td>49.473834</td>\n      <td>49.473834</td>\n      <td>19.066667</td>\n      <td>20.381818</td>\n    </tr>\n    <tr>\n      <th>5</th>\n      <td>A radiopharmaceutical composed of the dichlori...</td>\n      <td>A radiopharmaceutical composed of the dichlori...</td>\n      <td>26.236259</td>\n      <td>22.830180</td>\n      <td>13.657551</td>\n      <td>13.138919</td>\n      <td>12.839300</td>\n      <td>13.188479</td>\n      <td>16.317551</td>\n      <td>11.756757</td>\n      <td>15.087300</td>\n      <td>11.639231</td>\n      <td>88.501485</td>\n      <td>76.644534</td>\n      <td>26.125170</td>\n      <td>24.392793</td>\n    </tr>\n    <tr>\n      <th>...</th>\n      <td>...</td>\n      <td>...</td>\n      <td>...</td>\n      <td>...</td>\n      <td>...</td>\n      <td>...</td>\n      <td>...</td>\n      <td>...</td>\n      <td>...</td>\n      <td>...</td>\n      <td>...</td>\n      <td>...</td>\n      <td>...</td>\n      <td>...</td>\n      <td>...</td>\n      <td>...</td>\n    </tr>\n    <tr>\n      <th>995</th>\n      <td>The chemical reactions and pathways resulting ...</td>\n      <td>The chemical reactions and pathways resulting ...</td>\n      <td>29.640761</td>\n      <td>63.613553</td>\n      <td>11.981957</td>\n      <td>6.746579</td>\n      <td>11.072117</td>\n      <td>12.027500</td>\n      <td>11.586087</td>\n      <td>3.812632</td>\n      <td>13.399130</td>\n      <td>9.475000</td>\n      <td>73.381555</td>\n      <td>66.376114</td>\n      <td>23.730435</td>\n      <td>22.747368</td>\n    </tr>\n    <tr>\n      <th>996</th>\n      <td>Liquid preparation consisting of a suspension ...</td>\n      <td>Liquid preparation consisting of a suspension ...</td>\n      <td>43.010043</td>\n      <td>49.180000</td>\n      <td>9.545826</td>\n      <td>8.635556</td>\n      <td>11.948772</td>\n      <td>11.072117</td>\n      <td>-1.623478</td>\n      <td>-1.920889</td>\n      <td>10.503406</td>\n      <td>8.279565</td>\n      <td>62.580000</td>\n      <td>62.580000</td>\n      <td>21.071304</td>\n      <td>21.377778</td>\n    </tr>\n    <tr>\n      <th>997</th>\n      <td>A progressive advance or delay of bedtime unti...</td>\n      <td>A progressive advance or delay of bedtime unti...</td>\n      <td>57.068269</td>\n      <td>57.068269</td>\n      <td>6.914231</td>\n      <td>6.914231</td>\n      <td>9.139762</td>\n      <td>9.622986</td>\n      <td>-14.781538</td>\n      <td>-14.329231</td>\n      <td>9.344615</td>\n      <td>4.947143</td>\n      <td>62.580000</td>\n      <td>62.580000</td>\n      <td>27.215385</td>\n      <td>27.215385</td>\n    </tr>\n    <tr>\n      <th>998</th>\n      <td>A change in the nucleotide sequence of the ERB...</td>\n      <td>A change in the DNA of a gene that results in ...</td>\n      <td>43.963077</td>\n      <td>44.353804</td>\n      <td>10.356923</td>\n      <td>9.929783</td>\n      <td>13.747922</td>\n      <td>13.098900</td>\n      <td>12.284615</td>\n      <td>7.495652</td>\n      <td>18.760000</td>\n      <td>8.935200</td>\n      <td>73.381555</td>\n      <td>66.376114</td>\n      <td>22.123077</td>\n      <td>20.252174</td>\n    </tr>\n    <tr>\n      <th>999</th>\n      <td>Bladder cancer in which there is no regional l...</td>\n      <td>cancer in which there is no regional lymph nod...</td>\n      <td>91.600980</td>\n      <td>95.671667</td>\n      <td>1.890588</td>\n      <td>1.240000</td>\n      <td>13.346335</td>\n      <td>12.915175</td>\n      <td>-24.564706</td>\n      <td>-28.672500</td>\n      <td>3.876471</td>\n      <td>2.881875</td>\n      <td>36.130580</td>\n      <td>31.290000</td>\n      <td>11.678431</td>\n      <td>9.633333</td>\n    </tr>\n  </tbody>\n</table>\n<p>999 rows × 16 columns</p>\n</div>"
     },
     "execution_count": 9,
     "metadata": {},
     "output_type": "execute_result"
    }
   ],
   "source": [
    "t5_cols = ['t5_old_document', 't5_new_document', 't5_old_fk_score','t5_new_fk_score','t5_old_fk_grade','t5_new_fk_grade', 't5_old_dc_score',\n",
    "        't5_new_dc_score','t5_old_cl_score','t5_new_cl_score','t5_old_ar_index','t5_new_ar_index', 't5_old_smog_score', 't5_new_smog_score',\n",
    "        't5_old_gf_index', 't5_new_gf_index']\n",
    "\n",
    "with open('/home/karl/PycharmProjects/DLAI_GPT/gpt-j-6b-main/final_stats/t5_pipeline_graded_results.txt', encoding='utf-8-sig') as data:\n",
    "    df_t5 = pd.read_csv(data,  sep='|',names=t5_cols).reset_index()\n",
    "    df_t5 = df_t5.drop(['index'], axis=1)\n",
    "    df_t5 = df_t5.drop([0])\n",
    "    df_t5['t5_old_fk_score'] = df_t5['t5_old_fk_score'].apply(lambda col:pd.to_numeric(col, errors='coerce'))\n",
    "    df_t5['t5_new_fk_score'] = df_t5['t5_new_fk_score'].apply(lambda col:pd.to_numeric(col, errors='coerce'))\n",
    "    df_t5['t5_old_fk_grade'] = df_t5['t5_old_fk_grade'].apply(lambda col:pd.to_numeric(col, errors='coerce'))\n",
    "    df_t5['t5_new_fk_grade'] = df_t5['t5_new_fk_grade'].apply(lambda col:pd.to_numeric(col, errors='coerce'))\n",
    "    df_t5['t5_old_dc_score'] = df_t5['t5_old_dc_score'].apply(lambda col:pd.to_numeric(col, errors='coerce'))\n",
    "    df_t5['t5_new_dc_score'] = df_t5['t5_new_dc_score'].apply(lambda col:pd.to_numeric(col, errors='coerce'))\n",
    "    df_t5['t5_old_cl_score'] = df_t5['t5_old_cl_score'].apply(lambda col:pd.to_numeric(col, errors='coerce'))\n",
    "    df_t5['t5_new_cl_score'] = df_t5['t5_new_cl_score'].apply(lambda col:pd.to_numeric(col, errors='coerce'))\n",
    "    df_t5['t5_old_ar_index'] = df_t5['t5_old_ar_index'].apply(lambda col:pd.to_numeric(col, errors='coerce'))\n",
    "    df_t5['t5_new_ar_index'] = df_t5['t5_new_ar_index'].apply(lambda col:pd.to_numeric(col, errors='coerce'))\n",
    "    df_t5['t5_old_smog_score'] = df_t5['t5_old_smog_score'].apply(lambda col:pd.to_numeric(col, errors='coerce'))\n",
    "    df_t5['t5_new_smog_score'] = df_t5['t5_new_smog_score'].apply(lambda col:pd.to_numeric(col, errors='coerce'))\n",
    "    df_t5['t5_old_gf_index'] = df_t5['t5_old_gf_index'].apply(lambda col:pd.to_numeric(col, errors='coerce'))\n",
    "    df_t5['t5_new_gf_index'] = df_t5['t5_new_gf_index'].apply(lambda col:pd.to_numeric(col, errors='coerce'))\n",
    "df_t5"
   ],
   "metadata": {
    "collapsed": false,
    "pycharm": {
     "name": "#%%\n"
    }
   }
  },
  {
   "cell_type": "code",
   "execution_count": 10,
   "outputs": [
    {
     "name": "stdout",
     "output_type": "stream",
     "text": [
      "               T  dof alternative         p-val           CI95%   cohen-d  \\\n",
      "T-test -7.855967  998   two-sided  1.021975e-14  [-7.04, -4.22]  0.170701   \n",
      "\n",
      "             BF10     power  \n",
      "T-test  3.297e+11  0.999698  \n",
      "--------------------------------------------------------------------------------------------\n",
      "               T  dof alternative         p-val         CI95%  cohen-d  \\\n",
      "T-test  8.215076  998   two-sided  6.527432e-16  [0.68, 1.11]   0.1785   \n",
      "\n",
      "            BF10     power  \n",
      "T-test  4.92e+12  0.999882  \n",
      "--------------------------------------------------------------------------------------------\n",
      "              T  dof alternative     p-val         CI95%   cohen-d   BF10  \\\n",
      "T-test  3.09411  998   two-sided  0.002029  [0.06, 0.26]  0.062249  4.118   \n",
      "\n",
      "           power  \n",
      "T-test  0.502292  \n",
      "--------------------------------------------------------------------------------------------\n",
      "               T  dof alternative     p-val        CI95%  cohen-d     BF10  \\\n",
      "T-test  4.023927  998   two-sided  0.000062  [1.4, 4.07]  0.07451  107.017   \n",
      "\n",
      "           power  \n",
      "T-test  0.652774  \n",
      "--------------------------------------------------------------------------------------------\n",
      "                T  dof alternative          p-val         CI95%   cohen-d  \\\n",
      "T-test  33.341169  998   two-sided  2.127325e-164  [4.15, 4.67]  0.772652   \n",
      "\n",
      "              BF10  power  \n",
      "T-test  2.632e+160    1.0  \n",
      "--------------------------------------------------------------------------------------------\n",
      "               T  dof alternative         p-val        CI95%   cohen-d  \\\n",
      "T-test  6.366735  998   two-sided  2.940235e-10  [1.64, 3.1]  0.118923   \n",
      "\n",
      "             BF10     power  \n",
      "T-test  1.429e+07  0.963689  \n",
      "--------------------------------------------------------------------------------------------\n",
      "               T  dof alternative   p-val         CI95%   cohen-d    BF10  \\\n",
      "T-test  3.732812  998   two-sided  0.0002  [0.24, 0.77]  0.084906  35.303   \n",
      "\n",
      "          power  \n",
      "T-test  0.76457  \n"
     ]
    }
   ],
   "source": [
    "ttest_fkscore_t5 = pt.ttest(df_t5['t5_old_fk_score'], df_t5['t5_new_fk_score'],paired=True)\n",
    "print(ttest_fkscore_t5)\n",
    "print('--------------------------------------------------------------------------------------------')\n",
    "ttest_fkgrade_t5 = pt.ttest(df_t5['t5_old_fk_grade'], df_t5['t5_new_fk_grade'],paired=True)\n",
    "print(ttest_fkgrade_t5)\n",
    "print('--------------------------------------------------------------------------------------------')\n",
    "ttest_dcscore_t5 = pt.ttest(df_t5['t5_old_dc_score'], df_t5['t5_new_dc_score'],paired=True)\n",
    "print(ttest_dcscore_t5)\n",
    "print('--------------------------------------------------------------------------------------------')\n",
    "ttest_clscore_t5 = pt.ttest(df_t5['t5_old_cl_score'], df_t5['t5_new_cl_score'],paired=True)\n",
    "print(ttest_clscore_t5)\n",
    "print('--------------------------------------------------------------------------------------------')\n",
    "ttest_arindex_t5 = pt.ttest(df_t5['t5_old_ar_index'], df_t5['t5_new_ar_index'],paired=True)\n",
    "print(ttest_arindex_t5)\n",
    "print('--------------------------------------------------------------------------------------------')\n",
    "ttest_smog_t5 = pt.ttest(df_t5['t5_old_smog_score'], df_t5['t5_new_smog_score'],paired=True)\n",
    "print(ttest_smog_t5)\n",
    "print('--------------------------------------------------------------------------------------------')\n",
    "ttest_gfindex_t5 = pt.ttest(df_t5['t5_old_gf_index'], df_t5['t5_new_gf_index'],paired=True)\n",
    "print(ttest_gfindex_t5)"
   ],
   "metadata": {
    "collapsed": false,
    "pycharm": {
     "name": "#%%\n"
    }
   }
  },
  {
   "cell_type": "code",
   "execution_count": 11,
   "outputs": [
    {
     "data": {
      "text/plain": "                                     prog_old_document  \\\n1    the chemical reactions and pathways resulting ...   \n2    any process that modulates the rate, frequency...   \n3    the core heterodimer of a condensin complex, a...   \n4    abnormally decreased blood carbon dioxide (co2...   \n5    a radiopharmaceutical composed of the dichlori...   \n..                                                 ...   \n983  stylets designed for use in the lumen of cathe...   \n984  defibrillator-pacemakers that generate electri...   \n985  the sodium salt form of cefamandole, a beta-la...   \n986  a measurement of the round cells (round shaped...   \n987  any physical or mental impairment that interfe...   \n\n                                     prog_new_document  prog_old_fk_score  \\\n1    The process force and path happen in the place...          68.819265   \n2    Any walk that changes the rate, ratio, or exte...          41.061078   \n3    The cell part heterodimer of a condensing whol...          27.485000   \n4    Abnormally change blood carbon dioxide (co2) l...          73.845000   \n5    A pharmaceutical plan of the chloride salt of ...          26.236259   \n..                                                 ...                ...   \n983  Style designed for use in the lumen  a tube or...          32.051047   \n984  The defibrillator-pacemakers that make car for...          -4.976477   \n985  The sodium salt form of cefamandole, a beta-la...          11.424250   \n986  A functional concept of the round cells (round...          44.353804   \n987  Any health care action or mental damage that i...           1.822500   \n\n     prog_new_fk_score  prog_old_fk_grade  prog_new_fk_grade  \\\n1           103.625000           5.772059           1.290000   \n2            75.983596          10.347647           5.807895   \n3            64.230000          11.910000           7.281667   \n4           103.044286           4.450000           0.625714   \n5            53.556471          13.657551          10.012549   \n..                 ...                ...                ...   \n983          65.675435          11.840963           7.363975   \n984          26.112866          18.735682          14.709878   \n985          30.347433          14.845750          12.355403   \n986          57.180000           9.929783           8.265000   \n987          52.000000          14.868333           8.242222   \n\n     prog_old_dc_score  prog_new_dc_score  prog_old_cl_score  \\\n1            14.683967          13.628071          14.983529   \n2            12.786881          11.258405           5.184706   \n3            13.932062          10.195462           5.680000   \n4            11.086573          10.414067         -17.973333   \n5            12.839300          11.417165          16.317551   \n..                 ...                ...                ...   \n983          12.781505          12.183386           8.520465   \n984          12.459417          10.424171          24.332468   \n985          11.678082          11.256205          13.992500   \n986           9.582952          10.748150           6.984348   \n987          12.801833          10.052641          -2.226667   \n\n     prog_new_cl_score  prog_old_ar_index  prog_new_ar_index  \\\n1             9.208000          14.322857           7.796377   \n2             2.317895           7.280476           2.255676   \n3             3.263333           9.612857           4.724638   \n4           -16.665714           6.582727           2.942500   \n5            12.795294          15.087300           8.484135   \n..                 ...                ...                ...   \n983           4.896957          14.951163           6.848385   \n984          20.840976          21.694083          13.667647   \n985          11.961791          14.221765           8.783541   \n986           6.938333          15.667826          15.297500   \n987          -5.122222          15.586000          10.342941   \n\n     prog_old_smog_score  prog_new_smog_score  prog_old_gf_index  \\\n1              58.538230            49.473834          19.870588   \n2              74.485099            67.594125          24.533333   \n3              69.966567            58.538230          24.000000   \n4              49.473834            44.250742          19.066667   \n5              88.501485            79.774160          26.125170   \n..                   ...                  ...                ...   \n983            79.334630            66.900834          25.844518   \n984           100.176879            89.873683          28.998701   \n985            74.045655            71.352178          22.620000   \n986            62.580000            62.580000          18.513043   \n987            69.966567            58.538230          29.666667   \n\n     prog_new_gf_index  \n1            14.000000  \n2            19.803509  \n3            16.466667  \n4            14.228571  \n5            22.094118  \n..                 ...  \n983          19.170186  \n984          24.297561  \n985          20.882388  \n986          18.133333  \n987          19.155556  \n\n[987 rows x 16 columns]",
      "text/html": "<div>\n<style scoped>\n    .dataframe tbody tr th:only-of-type {\n        vertical-align: middle;\n    }\n\n    .dataframe tbody tr th {\n        vertical-align: top;\n    }\n\n    .dataframe thead th {\n        text-align: right;\n    }\n</style>\n<table border=\"1\" class=\"dataframe\">\n  <thead>\n    <tr style=\"text-align: right;\">\n      <th></th>\n      <th>prog_old_document</th>\n      <th>prog_new_document</th>\n      <th>prog_old_fk_score</th>\n      <th>prog_new_fk_score</th>\n      <th>prog_old_fk_grade</th>\n      <th>prog_new_fk_grade</th>\n      <th>prog_old_dc_score</th>\n      <th>prog_new_dc_score</th>\n      <th>prog_old_cl_score</th>\n      <th>prog_new_cl_score</th>\n      <th>prog_old_ar_index</th>\n      <th>prog_new_ar_index</th>\n      <th>prog_old_smog_score</th>\n      <th>prog_new_smog_score</th>\n      <th>prog_old_gf_index</th>\n      <th>prog_new_gf_index</th>\n    </tr>\n  </thead>\n  <tbody>\n    <tr>\n      <th>1</th>\n      <td>the chemical reactions and pathways resulting ...</td>\n      <td>The process force and path happen in the place...</td>\n      <td>68.819265</td>\n      <td>103.625000</td>\n      <td>5.772059</td>\n      <td>1.290000</td>\n      <td>14.683967</td>\n      <td>13.628071</td>\n      <td>14.983529</td>\n      <td>9.208000</td>\n      <td>14.322857</td>\n      <td>7.796377</td>\n      <td>58.538230</td>\n      <td>49.473834</td>\n      <td>19.870588</td>\n      <td>14.000000</td>\n    </tr>\n    <tr>\n      <th>2</th>\n      <td>any process that modulates the rate, frequency...</td>\n      <td>Any walk that changes the rate, ratio, or exte...</td>\n      <td>41.061078</td>\n      <td>75.983596</td>\n      <td>10.347647</td>\n      <td>5.807895</td>\n      <td>12.786881</td>\n      <td>11.258405</td>\n      <td>5.184706</td>\n      <td>2.317895</td>\n      <td>7.280476</td>\n      <td>2.255676</td>\n      <td>74.485099</td>\n      <td>67.594125</td>\n      <td>24.533333</td>\n      <td>19.803509</td>\n    </tr>\n    <tr>\n      <th>3</th>\n      <td>the core heterodimer of a condensin complex, a...</td>\n      <td>The cell part heterodimer of a condensing whol...</td>\n      <td>27.485000</td>\n      <td>64.230000</td>\n      <td>11.910000</td>\n      <td>7.281667</td>\n      <td>13.932062</td>\n      <td>10.195462</td>\n      <td>5.680000</td>\n      <td>3.263333</td>\n      <td>9.612857</td>\n      <td>4.724638</td>\n      <td>69.966567</td>\n      <td>58.538230</td>\n      <td>24.000000</td>\n      <td>16.466667</td>\n    </tr>\n    <tr>\n      <th>4</th>\n      <td>abnormally decreased blood carbon dioxide (co2...</td>\n      <td>Abnormally change blood carbon dioxide (co2) l...</td>\n      <td>73.845000</td>\n      <td>103.044286</td>\n      <td>4.450000</td>\n      <td>0.625714</td>\n      <td>11.086573</td>\n      <td>10.414067</td>\n      <td>-17.973333</td>\n      <td>-16.665714</td>\n      <td>6.582727</td>\n      <td>2.942500</td>\n      <td>49.473834</td>\n      <td>44.250742</td>\n      <td>19.066667</td>\n      <td>14.228571</td>\n    </tr>\n    <tr>\n      <th>5</th>\n      <td>a radiopharmaceutical composed of the dichlori...</td>\n      <td>A pharmaceutical plan of the chloride salt of ...</td>\n      <td>26.236259</td>\n      <td>53.556471</td>\n      <td>13.657551</td>\n      <td>10.012549</td>\n      <td>12.839300</td>\n      <td>11.417165</td>\n      <td>16.317551</td>\n      <td>12.795294</td>\n      <td>15.087300</td>\n      <td>8.484135</td>\n      <td>88.501485</td>\n      <td>79.774160</td>\n      <td>26.125170</td>\n      <td>22.094118</td>\n    </tr>\n    <tr>\n      <th>...</th>\n      <td>...</td>\n      <td>...</td>\n      <td>...</td>\n      <td>...</td>\n      <td>...</td>\n      <td>...</td>\n      <td>...</td>\n      <td>...</td>\n      <td>...</td>\n      <td>...</td>\n      <td>...</td>\n      <td>...</td>\n      <td>...</td>\n      <td>...</td>\n      <td>...</td>\n      <td>...</td>\n    </tr>\n    <tr>\n      <th>983</th>\n      <td>stylets designed for use in the lumen of cathe...</td>\n      <td>Style designed for use in the lumen  a tube or...</td>\n      <td>32.051047</td>\n      <td>65.675435</td>\n      <td>11.840963</td>\n      <td>7.363975</td>\n      <td>12.781505</td>\n      <td>12.183386</td>\n      <td>8.520465</td>\n      <td>4.896957</td>\n      <td>14.951163</td>\n      <td>6.848385</td>\n      <td>79.334630</td>\n      <td>66.900834</td>\n      <td>25.844518</td>\n      <td>19.170186</td>\n    </tr>\n    <tr>\n      <th>984</th>\n      <td>defibrillator-pacemakers that generate electri...</td>\n      <td>The defibrillator-pacemakers that make car for...</td>\n      <td>-4.976477</td>\n      <td>26.112866</td>\n      <td>18.735682</td>\n      <td>14.709878</td>\n      <td>12.459417</td>\n      <td>10.424171</td>\n      <td>24.332468</td>\n      <td>20.840976</td>\n      <td>21.694083</td>\n      <td>13.667647</td>\n      <td>100.176879</td>\n      <td>89.873683</td>\n      <td>28.998701</td>\n      <td>24.297561</td>\n    </tr>\n    <tr>\n      <th>985</th>\n      <td>the sodium salt form of cefamandole, a beta-la...</td>\n      <td>The sodium salt form of cefamandole, a beta-la...</td>\n      <td>11.424250</td>\n      <td>30.347433</td>\n      <td>14.845750</td>\n      <td>12.355403</td>\n      <td>11.678082</td>\n      <td>11.256205</td>\n      <td>13.992500</td>\n      <td>11.961791</td>\n      <td>14.221765</td>\n      <td>8.783541</td>\n      <td>74.045655</td>\n      <td>71.352178</td>\n      <td>22.620000</td>\n      <td>20.882388</td>\n    </tr>\n    <tr>\n      <th>986</th>\n      <td>a measurement of the round cells (round shaped...</td>\n      <td>A functional concept of the round cells (round...</td>\n      <td>44.353804</td>\n      <td>57.180000</td>\n      <td>9.929783</td>\n      <td>8.265000</td>\n      <td>9.582952</td>\n      <td>10.748150</td>\n      <td>6.984348</td>\n      <td>6.938333</td>\n      <td>15.667826</td>\n      <td>15.297500</td>\n      <td>62.580000</td>\n      <td>62.580000</td>\n      <td>18.513043</td>\n      <td>18.133333</td>\n    </tr>\n    <tr>\n      <th>987</th>\n      <td>any physical or mental impairment that interfe...</td>\n      <td>Any health care action or mental damage that i...</td>\n      <td>1.822500</td>\n      <td>52.000000</td>\n      <td>14.868333</td>\n      <td>8.242222</td>\n      <td>12.801833</td>\n      <td>10.052641</td>\n      <td>-2.226667</td>\n      <td>-5.122222</td>\n      <td>15.586000</td>\n      <td>10.342941</td>\n      <td>69.966567</td>\n      <td>58.538230</td>\n      <td>29.666667</td>\n      <td>19.155556</td>\n    </tr>\n  </tbody>\n</table>\n<p>987 rows × 16 columns</p>\n</div>"
     },
     "execution_count": 11,
     "metadata": {},
     "output_type": "execute_result"
    }
   ],
   "source": [
    "prog_cols = ['prog_old_document', 'prog_new_document', 'prog_old_fk_score','prog_new_fk_score','prog_old_fk_grade','prog_new_fk_grade', 'prog_old_dc_score',\n",
    "        'prog_new_dc_score','prog_old_cl_score','prog_new_cl_score','prog_old_ar_index','prog_new_ar_index', 'prog_old_smog_score', 'prog_new_smog_score',\n",
    "        'prog_old_gf_index', 'prog_new_gf_index']\n",
    "\n",
    "with open('/home/karl/PycharmProjects/DLAI_GPT/gpt-j-6b-main/final_stats/pipeline_results_graded_prog.txt', encoding='utf-8-sig') as data:\n",
    "    df_prog = pd.read_csv(data,  sep='|',names=prog_cols).reset_index()\n",
    "    df_prog = df_prog.drop(['index'], axis=1)\n",
    "    df_prog = df_prog.drop([0])\n",
    "    df_prog['prog_old_fk_score'] = df_prog['prog_old_fk_score'].apply(lambda col:pd.to_numeric(col, errors='coerce'))\n",
    "    df_prog['prog_new_fk_score'] = df_prog['prog_new_fk_score'].apply(lambda col:pd.to_numeric(col, errors='coerce'))\n",
    "    df_prog['prog_old_fk_grade'] = df_prog['prog_old_fk_grade'].apply(lambda col:pd.to_numeric(col, errors='coerce'))\n",
    "    df_prog['prog_new_fk_grade'] = df_prog['prog_new_fk_grade'].apply(lambda col:pd.to_numeric(col, errors='coerce'))\n",
    "    df_prog['prog_old_dc_score'] = df_prog['prog_old_dc_score'].apply(lambda col:pd.to_numeric(col, errors='coerce'))\n",
    "    df_prog['prog_new_dc_score'] = df_prog['prog_new_dc_score'].apply(lambda col:pd.to_numeric(col, errors='coerce'))\n",
    "    df_prog['prog_old_cl_score'] = df_prog['prog_old_cl_score'].apply(lambda col:pd.to_numeric(col, errors='coerce'))\n",
    "    df_prog['prog_new_cl_score'] = df_prog['prog_new_cl_score'].apply(lambda col:pd.to_numeric(col, errors='coerce'))\n",
    "    df_prog['prog_old_ar_index'] = df_prog['prog_old_ar_index'].apply(lambda col:pd.to_numeric(col, errors='coerce'))\n",
    "    df_prog['prog_new_ar_index'] = df_prog['prog_new_ar_index'].apply(lambda col:pd.to_numeric(col, errors='coerce'))\n",
    "    df_prog['prog_old_smog_score'] = df_prog['prog_old_smog_score'].apply(lambda col:pd.to_numeric(col, errors='coerce'))\n",
    "    df_prog['prog_new_smog_score'] = df_prog['prog_new_smog_score'].apply(lambda col:pd.to_numeric(col, errors='coerce'))\n",
    "    df_prog['prog_old_gf_index'] = df_prog['prog_old_gf_index'].apply(lambda col:pd.to_numeric(col, errors='coerce'))\n",
    "    df_prog['prog_new_gf_index'] = df_prog['prog_new_gf_index'].apply(lambda col:pd.to_numeric(col, errors='coerce'))\n",
    "df_prog"
   ],
   "metadata": {
    "collapsed": false,
    "pycharm": {
     "name": "#%%\n"
    }
   }
  },
  {
   "cell_type": "code",
   "execution_count": 12,
   "outputs": [
    {
     "name": "stdout",
     "output_type": "stream",
     "text": [
      "                T  dof alternative          p-val             CI95%   cohen-d  \\\n",
      "T-test -42.726365  986   two-sided  1.412715e-226  [-33.79, -30.83]  1.048315   \n",
      "\n",
      "              BF10  power  \n",
      "T-test  2.882e+222    1.0  \n",
      "--------------------------------------------------------------------------------------------\n",
      "                T  dof alternative          p-val         CI95%   cohen-d  \\\n",
      "T-test  42.561857  986   two-sided  1.666428e-225  [4.07, 4.46]  0.902303   \n",
      "\n",
      "              BF10  power  \n",
      "T-test  2.456e+221    1.0  \n",
      "--------------------------------------------------------------------------------------------\n",
      "          T  dof alternative p-val       CI95%  cohen-d BF10  power\n",
      "T-test  NaN  986   two-sided   NaN  [nan, nan]      0.0  nan   0.05\n",
      "--------------------------------------------------------------------------------------------\n",
      "               T  dof alternative         p-val         CI95%   cohen-d  \\\n",
      "T-test  5.809929  986   two-sided  8.428932e-09  [1.22, 2.46]  0.047589   \n",
      "\n",
      "             BF10     power  \n",
      "T-test  5.502e+05  0.320759  \n",
      "--------------------------------------------------------------------------------------------\n",
      "                T  dof alternative          p-val         CI95%  cohen-d  \\\n",
      "T-test  38.875761  986   two-sided  3.465699e-201  [4.28, 4.74]  0.73898   \n",
      "\n",
      "              BF10  power  \n",
      "T-test  1.327e+197    1.0  \n",
      "--------------------------------------------------------------------------------------------\n",
      "               T  dof alternative          p-val        CI95%   cohen-d  \\\n",
      "T-test  34.78346  986   two-sided  1.262864e-173  [6.07, 6.8]  0.328375   \n",
      "\n",
      "             BF10  power  \n",
      "T-test  4.21e+169    1.0  \n",
      "--------------------------------------------------------------------------------------------\n",
      "                T  dof alternative          p-val         CI95%   cohen-d  \\\n",
      "T-test  38.991891  986   two-sided  5.826483e-202  [4.17, 4.61]  0.746848   \n",
      "\n",
      "              BF10  power  \n",
      "T-test  7.861e+197    1.0  \n"
     ]
    },
    {
     "name": "stderr",
     "output_type": "stream",
     "text": [
      "/home/karl/anaconda3/envs/DLAI_GPT/lib/python3.7/site-packages/pingouin/parametric.py:232: UserWarning: x and y are equals. Cannot compute T or p-value.\n",
      "  warnings.warn(\"x and y are equals. Cannot compute T or p-value.\")\n"
     ]
    }
   ],
   "source": [
    "ttest_fkscore_prog = pt.ttest(df_prog['prog_old_fk_score'], df_prog['prog_new_fk_score'],paired=True)\n",
    "print(ttest_fkscore_prog)\n",
    "print('--------------------------------------------------------------------------------------------')\n",
    "ttest_fkgrade_prog = pt.ttest(df_prog['prog_old_fk_grade'], df_prog['prog_new_fk_grade'],paired=True)\n",
    "print(ttest_fkgrade_prog)\n",
    "print('--------------------------------------------------------------------------------------------')\n",
    "ttest_dcscore_prog = pt.ttest(df_prog['prog_old_dc_score'], df_prog['prog_old_dc_score'],paired=True)\n",
    "print(ttest_dcscore_prog)\n",
    "print('--------------------------------------------------------------------------------------------')\n",
    "ttest_clscore_prog = pt.ttest(df_prog['prog_old_cl_score'], df_prog['prog_new_cl_score'],paired=True)\n",
    "print(ttest_clscore_prog)\n",
    "print('--------------------------------------------------------------------------------------------')\n",
    "ttest_arindex_prog = pt.ttest(df_prog['prog_old_ar_index'], df_prog['prog_new_ar_index'],paired=True)\n",
    "print(ttest_arindex_prog)\n",
    "print('--------------------------------------------------------------------------------------------')\n",
    "ttest_smog_prog = pt.ttest(df_prog['prog_old_smog_score'], df_prog['prog_new_smog_score'],paired=True)\n",
    "print(ttest_smog_prog)\n",
    "print('--------------------------------------------------------------------------------------------')\n",
    "ttest_gfindex_prog = pt.ttest(df_prog['prog_old_gf_index'], df_prog['prog_new_gf_index'],paired=True)\n",
    "print(ttest_gfindex_prog)"
   ],
   "metadata": {
    "collapsed": false,
    "pycharm": {
     "name": "#%%\n"
    }
   }
  },
  {
   "cell_type": "code",
   "execution_count": null,
   "outputs": [],
   "source": [],
   "metadata": {
    "collapsed": false,
    "pycharm": {
     "name": "#%%\n"
    }
   }
  }
 ],
 "metadata": {
  "kernelspec": {
   "display_name": "Python 3",
   "language": "python",
   "name": "python3"
  },
  "language_info": {
   "codemirror_mode": {
    "name": "ipython",
    "version": 2
   },
   "file_extension": ".py",
   "mimetype": "text/x-python",
   "name": "python",
   "nbconvert_exporter": "python",
   "pygments_lexer": "ipython2",
   "version": "2.7.6"
  }
 },
 "nbformat": 4,
 "nbformat_minor": 0
}